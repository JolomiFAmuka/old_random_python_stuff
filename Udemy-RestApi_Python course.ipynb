{
 "cells": [
  {
   "cell_type": "code",
   "execution_count": 1,
   "id": "approximate-dutch",
   "metadata": {},
   "outputs": [],
   "source": [
    "def named(**kwargs):\n",
    "    print(kwargs)"
   ]
  },
  {
   "cell_type": "code",
   "execution_count": 2,
   "id": "loaded-understanding",
   "metadata": {},
   "outputs": [
    {
     "name": "stdout",
     "output_type": "stream",
     "text": [
      "{'name': 'Bob', 'age': '25'}\n"
     ]
    }
   ],
   "source": [
    "details = {\"name\":\"Bob\",\"age\":\"25\"}\n",
    "named(**details)"
   ]
  },
  {
   "cell_type": "code",
   "execution_count": 3,
   "id": "numerous-guatemala",
   "metadata": {},
   "outputs": [],
   "source": [
    "def prinice(**kwargs):\n",
    "    named(**kwargs)\n",
    "    for arg, value in kwargs.items():\n",
    "        print(f\"{arg}: {value}\")"
   ]
  },
  {
   "cell_type": "code",
   "execution_count": 5,
   "id": "experimental-jewelry",
   "metadata": {},
   "outputs": [
    {
     "name": "stdout",
     "output_type": "stream",
     "text": [
      "{'name': 'Bob', 'age': '25'}\n",
      "name: Bob\n",
      "age: 25\n"
     ]
    }
   ],
   "source": [
    "prinice(name=\"Bob\",age=\"25\")"
   ]
  },
  {
   "cell_type": "code",
   "execution_count": 6,
   "id": "killing-chicken",
   "metadata": {},
   "outputs": [],
   "source": [
    "def both(*args, **kwargs):\n",
    "    print(args)\n",
    "    print(kwargs)"
   ]
  },
  {
   "cell_type": "code",
   "execution_count": 7,
   "id": "distinguished-hayes",
   "metadata": {},
   "outputs": [
    {
     "name": "stdout",
     "output_type": "stream",
     "text": [
      "(1, 3, 5)\n",
      "{'name': 'Mervin', 'age': 37}\n"
     ]
    }
   ],
   "source": [
    "both(1,3,5, name=\"Mervin\", age=37)"
   ]
  },
  {
   "cell_type": "code",
   "execution_count": 8,
   "id": "alpine-sentence",
   "metadata": {},
   "outputs": [],
   "source": [
    "student = {\"name\":\"Rolf\", \"grade\":(89,90,93,78,90)}"
   ]
  },
  {
   "cell_type": "code",
   "execution_count": 12,
   "id": "inclusive-contest",
   "metadata": {},
   "outputs": [
    {
     "data": {
      "text/plain": [
       "5"
      ]
     },
     "execution_count": 12,
     "metadata": {},
     "output_type": "execute_result"
    }
   ],
   "source": [
    "len(student[\"grade\"])"
   ]
  },
  {
   "cell_type": "code",
   "execution_count": 13,
   "id": "musical-scottish",
   "metadata": {},
   "outputs": [],
   "source": [
    "def average(sequence):\n",
    "    return sum(sequence)/len(sequence)"
   ]
  },
  {
   "cell_type": "code",
   "execution_count": 14,
   "id": "million-berry",
   "metadata": {},
   "outputs": [
    {
     "data": {
      "text/plain": [
       "88.0"
      ]
     },
     "execution_count": 14,
     "metadata": {},
     "output_type": "execute_result"
    }
   ],
   "source": [
    "average(student[\"grade\"])"
   ]
  },
  {
   "cell_type": "markdown",
   "id": "natural-grocery",
   "metadata": {},
   "source": [
    "Object Oriented Programming"
   ]
  },
  {
   "cell_type": "code",
   "execution_count": 38,
   "id": "spiritual-tobacco",
   "metadata": {},
   "outputs": [],
   "source": [
    "class Student:\n",
    "    def __init__(self, name, grades):\n",
    "        self.name = name\n",
    "        self.grades = grades\n",
    "        \n",
    "    def average(self):\n",
    "        return sum(self.grades)/len(self.grades)"
   ]
  },
  {
   "cell_type": "code",
   "execution_count": 39,
   "id": "fantastic-electric",
   "metadata": {},
   "outputs": [],
   "source": [
    "student1 = Student(\"mervin\",(89, 90, 93, 78, 90))\n",
    "student2 = Student(\"femi\", (79, 81, 73, 78, 90))"
   ]
  },
  {
   "cell_type": "code",
   "execution_count": 50,
   "id": "difficult-parts",
   "metadata": {},
   "outputs": [],
   "source": [
    "del student"
   ]
  },
  {
   "cell_type": "code",
   "execution_count": 60,
   "id": "opposed-affair",
   "metadata": {},
   "outputs": [],
   "source": [
    "class Person:\n",
    "    def __init__(self, name, age):\n",
    "        self.name = name\n",
    "        self.age = age\n",
    "        \n",
    "    def __str__(self):\n",
    "        return f\"Name: {self.name}\\nAge: {self.age}\""
   ]
  },
  {
   "cell_type": "code",
   "execution_count": 61,
   "id": "lined-antique",
   "metadata": {},
   "outputs": [],
   "source": [
    "mike = Person(\"Mike\", 47)"
   ]
  },
  {
   "cell_type": "code",
   "execution_count": 112,
   "id": "general-dayton",
   "metadata": {},
   "outputs": [],
   "source": [
    "class Store:\n",
    "    def __init__(self, name):\n",
    "        self.name = name\n",
    "        self.items = []\n",
    "        \n",
    "    def add_item(self, name, price):\n",
    "        item = {\"name\":name, \"price\":price}\n",
    "        self.items.append(item)\n",
    "        \n",
    "    def remove_item(self, item):\n",
    "        self.items.remove(item)"
   ]
  },
  {
   "cell_type": "code",
   "execution_count": 113,
   "id": "sorted-assist",
   "metadata": {},
   "outputs": [],
   "source": [
    "bibbys = Store(\"Bibby's\")"
   ]
  },
  {
   "cell_type": "code",
   "execution_count": 114,
   "id": "greatest-stamp",
   "metadata": {},
   "outputs": [],
   "source": [
    "bibbys.add_item(\"Cup\",2)\n",
    "bibbys.add_item(\"Juice\",4)\n",
    "bibbys.add_item(\"laptop\",12)\n",
    "bibbys.add_item(\"Oranges\",2)"
   ]
  },
  {
   "cell_type": "code",
   "execution_count": 115,
   "id": "infectious-affairs",
   "metadata": {},
   "outputs": [
    {
     "data": {
      "text/plain": [
       "[{'name': 'Cup', 'price': 2},\n",
       " {'name': 'Juice', 'price': 4},\n",
       " {'name': 'laptop', 'price': 12},\n",
       " {'name': 'Oranges', 'price': 2}]"
      ]
     },
     "execution_count": 115,
     "metadata": {},
     "output_type": "execute_result"
    }
   ],
   "source": [
    "bibbys.items"
   ]
  },
  {
   "cell_type": "code",
   "execution_count": 116,
   "id": "exclusive-puzzle",
   "metadata": {},
   "outputs": [],
   "source": [
    "bibbys.remove_item({'name': 'Cup', 'price': 2})"
   ]
  },
  {
   "cell_type": "code",
   "execution_count": 120,
   "id": "arbitrary-summit",
   "metadata": {},
   "outputs": [],
   "source": [
    "rei = [{'name': 'Cup', 'price': 2},\n",
    " {'name': 'Juice', 'price': 4},\n",
    " {'name': 'laptop', 'price': 12},\n",
    " {'name': 'Oranges', 'price': 2}]"
   ]
  },
  {
   "cell_type": "code",
   "execution_count": 121,
   "id": "retained-suffering",
   "metadata": {},
   "outputs": [
    {
     "data": {
      "text/plain": [
       "[{'name': 'Cup', 'price': 2},\n",
       " {'name': 'Juice', 'price': 4},\n",
       " {'name': 'laptop', 'price': 12},\n",
       " {'name': 'Oranges', 'price': 2}]"
      ]
     },
     "execution_count": 121,
     "metadata": {},
     "output_type": "execute_result"
    }
   ],
   "source": [
    "rei"
   ]
  },
  {
   "cell_type": "code",
   "execution_count": 142,
   "id": "present-tomorrow",
   "metadata": {},
   "outputs": [
    {
     "name": "stdout",
     "output_type": "stream",
     "text": [
      "Cup\n",
      "2\n",
      "Juice\n",
      "4\n",
      "laptop\n",
      "12\n",
      "Oranges\n",
      "2\n"
     ]
    }
   ],
   "source": [
    "# for x in rei:\n",
    "#     for y, z in x.items():\n",
    "#         print(y,\";\", z)\n",
    "\n",
    "for x in rei:\n",
    "    for _, z in x.items():\n",
    "        print(z)"
   ]
  },
  {
   "cell_type": "code",
   "execution_count": 28,
   "id": "previous-crack",
   "metadata": {},
   "outputs": [],
   "source": [
    "class Flower():\n",
    "    def __init__(self, name, colour, location):\n",
    "        self.name = name\n",
    "        self.colour = colour\n",
    "        self.location = location\n",
    "        \n",
    "    def __str__(self):\n",
    "        return f\"Name: {self.name}\\nColour: {self.colour}\\nFound: {self.location}\"\n"
   ]
  },
  {
   "cell_type": "code",
   "execution_count": 29,
   "id": "brazilian-denver",
   "metadata": {},
   "outputs": [],
   "source": [
    "sunflower = Flower(\"Sun_Flower\",\"Red\", \"USA\")"
   ]
  },
  {
   "cell_type": "code",
   "execution_count": 30,
   "id": "endless-berkeley",
   "metadata": {},
   "outputs": [
    {
     "name": "stdout",
     "output_type": "stream",
     "text": [
      "Name: Sun_Flower\n",
      "Colour: Red\n",
      "Found: USA\n"
     ]
    }
   ],
   "source": [
    "print(sunflower)"
   ]
  },
  {
   "cell_type": "code",
   "execution_count": 49,
   "id": "incorrect-engine",
   "metadata": {},
   "outputs": [],
   "source": [
    "class ClassTest:\n",
    "    \n",
    "    def inst_method(self):\n",
    "        print(f\"called instance method of {self}\")\n",
    "        \n",
    "    @classmethod\n",
    "    def classmeth(cls):\n",
    "        print(f\"called instance method of {cls}\")"
   ]
  },
  {
   "cell_type": "code",
   "execution_count": 50,
   "id": "ecological-aviation",
   "metadata": {},
   "outputs": [],
   "source": [
    "test = ClassTest()"
   ]
  },
  {
   "cell_type": "code",
   "execution_count": 51,
   "id": "saving-transsexual",
   "metadata": {},
   "outputs": [
    {
     "name": "stdout",
     "output_type": "stream",
     "text": [
      "called instance method of <__main__.ClassTest object at 0x0000019CCFE18340>\n"
     ]
    }
   ],
   "source": [
    "test.inst_method()"
   ]
  },
  {
   "cell_type": "code",
   "execution_count": 53,
   "id": "forced-independence",
   "metadata": {},
   "outputs": [
    {
     "name": "stdout",
     "output_type": "stream",
     "text": [
      "called instance method of <class '__main__.ClassTest'>\n"
     ]
    }
   ],
   "source": [
    "ClassTest.classmeth()"
   ]
  },
  {
   "cell_type": "code",
   "execution_count": null,
   "id": "wrong-exposure",
   "metadata": {},
   "outputs": [],
   "source": []
  }
 ],
 "metadata": {
  "kernelspec": {
   "display_name": "Python 3",
   "language": "python",
   "name": "python3"
  },
  "language_info": {
   "codemirror_mode": {
    "name": "ipython",
    "version": 3
   },
   "file_extension": ".py",
   "mimetype": "text/x-python",
   "name": "python",
   "nbconvert_exporter": "python",
   "pygments_lexer": "ipython3",
   "version": "3.9.2"
  }
 },
 "nbformat": 4,
 "nbformat_minor": 5
}
