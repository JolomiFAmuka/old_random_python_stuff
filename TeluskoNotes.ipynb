{
 "cells": [
  {
   "cell_type": "code",
   "execution_count": 6,
   "id": "earlier-average",
   "metadata": {},
   "outputs": [
    {
     "name": "stdout",
     "output_type": "stream",
     "text": [
      "Not Prime\n"
     ]
    }
   ],
   "source": [
    "#Find if number is prime\n",
    "\n",
    "num = 9\n",
    "\n",
    "for i in range(2,num):\n",
    "    if num % i ==0:\n",
    "        print(\"Not Prime\")\n",
    "        break\n",
    "else:\n",
    "    print(\"is prime\")\n",
    "        "
   ]
  },
  {
   "cell_type": "code",
   "execution_count": 7,
   "id": "chicken-montgomery",
   "metadata": {},
   "outputs": [
    {
     "name": "stdout",
     "output_type": "stream",
     "text": [
      "array('i', [5, 7, 5, 3, 4, 6])\n"
     ]
    }
   ],
   "source": [
    "# array\n",
    "#import array\n",
    "#import array as arr\n",
    "\n",
    "from array import *\n",
    "\n",
    "vals = array('i',[5,7,5,3,4,6])\n",
    "\n",
    "print(vals)\n",
    "\n",
    "vals.buffer_info()\n",
    "vals.reverse()\n",
    "\n",
    "newArr = array(vals.typecode,(a for a in vals))\n"
   ]
  },
  {
   "cell_type": "code",
   "execution_count": 14,
   "id": "animal-property",
   "metadata": {},
   "outputs": [
    {
     "name": "stdout",
     "output_type": "stream",
     "text": [
      "array('u', 'aeiou')\n",
      "a\n",
      "e\n",
      "i\n",
      "o\n",
      "u\n"
     ]
    }
   ],
   "source": [
    "cvals = array('u',['a', 'e','i','o','u'])\n",
    "print(cvals)\n",
    "for i in cvals:\n",
    "    print(i)"
   ]
  },
  {
   "cell_type": "code",
   "execution_count": 17,
   "id": "noble-civilian",
   "metadata": {},
   "outputs": [
    {
     "name": "stdout",
     "output_type": "stream",
     "text": [
      "enter the length: 5\n",
      "enter the next value: 34\n",
      "enter the next value: 12\n",
      "enter the next value: 97\n",
      "enter the next value: 52\n",
      "enter the next value: 79\n",
      "array('i', [34, 12, 97, 52, 79])\n",
      "enter the value of search: 97\n",
      "2\n"
     ]
    }
   ],
   "source": [
    "arr = array('i', [])\n",
    "\n",
    "n = int(input(\"enter the length: \"))\n",
    "\n",
    "for i in range(n):\n",
    "    x = int(input(\"enter the next value: \"))\n",
    "    arr.append(x)\n",
    "    \n",
    "print(arr)\n",
    "\n",
    "valx = int(input(\"enter the value of search: \"))\n",
    "\n",
    "k = 0\n",
    "for e in arr:\n",
    "    if e == valx:\n",
    "        print(k)\n",
    "        break\n",
    "    k+=1"
   ]
  },
  {
   "cell_type": "code",
   "execution_count": 2,
   "id": "vertical-yemen",
   "metadata": {},
   "outputs": [
    {
     "name": "stdout",
     "output_type": "stream",
     "text": [
      "0\n",
      "1\n",
      "1\n",
      "2\n",
      "3\n"
     ]
    }
   ],
   "source": [
    "# Print a fibronnaci series\n",
    "\n",
    "def fib(n):\n",
    "    a = 0\n",
    "    b = 1\n",
    "    print(a)\n",
    "    print(b)\n",
    "    \n",
    "    if n == 1:\n",
    "        print(a)\n",
    "        \n",
    "    else:\n",
    "        for i in range (2,n):\n",
    "            c = a + b\n",
    "            a = b\n",
    "            b = c\n",
    "            print(c)\n",
    "    \n",
    "    \n",
    "\n",
    "fib(5)"
   ]
  },
  {
   "cell_type": "code",
   "execution_count": 7,
   "id": "contrary-lindsay",
   "metadata": {},
   "outputs": [
    {
     "name": "stdout",
     "output_type": "stream",
     "text": [
      "24\n"
     ]
    }
   ],
   "source": [
    "# Factorial 1\n",
    "\n",
    "def fact(n):\n",
    "        \n",
    "    f = 1\n",
    "        \n",
    "    for i in range(1, n+1):\n",
    "        f *= i\n",
    "        \n",
    "    return f\n",
    "\n",
    "print(fact(4))"
   ]
  },
  {
   "cell_type": "code",
   "execution_count": 5,
   "id": "fleet-attribute",
   "metadata": {},
   "outputs": [
    {
     "name": "stdout",
     "output_type": "stream",
     "text": [
      "2\n"
     ]
    }
   ],
   "source": [
    "# arrays\n",
    "\n",
    "from numpy import *\n",
    "\n",
    "arr1 = array([\n",
    "    [1,2,3],\n",
    "    [4,5,6]\n",
    "])\n",
    "print(arr1.ndim)"
   ]
  },
  {
   "cell_type": "code",
   "execution_count": 12,
   "id": "optical-martin",
   "metadata": {},
   "outputs": [
    {
     "name": "stdout",
     "output_type": "stream",
     "text": [
      "120\n"
     ]
    }
   ],
   "source": [
    "# Factorial 2\n",
    "\n",
    "def result():\n",
    "    if n==0 :\n",
    "        return 1\n",
    "    return n * fact(n - 1)\n",
    "\n",
    "result = fact(5)\n",
    "print(result)"
   ]
  },
  {
   "cell_type": "code",
   "execution_count": 7,
   "id": "uniform-police",
   "metadata": {},
   "outputs": [],
   "source": [
    "# using random \n",
    "import random\n",
    "import math"
   ]
  },
  {
   "cell_type": "code",
   "execution_count": 12,
   "id": "gothic-wesley",
   "metadata": {},
   "outputs": [],
   "source": [
    "# Guessing game with random\n",
    "def findrand(num):\n",
    "    min = 10\n",
    "    max = 20\n",
    "\n",
    "    guess = math.floor(random.random() * (max - min + 1)) + min\n",
    "    print(guess)\n",
    "    if num == guess:\n",
    "        return \"YOU WON!!!\"\n",
    "    else:\n",
    "        return \"Try again\""
   ]
  },
  {
   "cell_type": "code",
   "execution_count": 25,
   "id": "diagnostic-fellow",
   "metadata": {},
   "outputs": [
    {
     "name": "stdout",
     "output_type": "stream",
     "text": [
      "12\n"
     ]
    },
    {
     "data": {
      "text/plain": [
       "'YOU WON!!!'"
      ]
     },
     "execution_count": 25,
     "metadata": {},
     "output_type": "execute_result"
    }
   ],
   "source": [
    "findrand(12)"
   ]
  },
  {
   "cell_type": "code",
   "execution_count": 26,
   "id": "buried-titanium",
   "metadata": {},
   "outputs": [],
   "source": [
    "# lambda\n",
    "benn = lambda a: a*a"
   ]
  },
  {
   "cell_type": "code",
   "execution_count": 27,
   "id": "broadband-belarus",
   "metadata": {},
   "outputs": [
    {
     "data": {
      "text/plain": [
       "9"
      ]
     },
     "execution_count": 27,
     "metadata": {},
     "output_type": "execute_result"
    }
   ],
   "source": [
    "benn(3)"
   ]
  },
  {
   "cell_type": "code",
   "execution_count": 29,
   "id": "spanish-batman",
   "metadata": {},
   "outputs": [],
   "source": [
    "nlist = [2,3,4,5,6,7]"
   ]
  },
  {
   "cell_type": "code",
   "execution_count": 32,
   "id": "naval-ocean",
   "metadata": {},
   "outputs": [
    {
     "data": {
      "text/plain": [
       "[2, 4, 6]"
      ]
     },
     "execution_count": 32,
     "metadata": {},
     "output_type": "execute_result"
    }
   ],
   "source": [
    "# filter function\n",
    "\n",
    "# find even numbers from the list\n",
    "\n",
    "evens = list(filter(lambda n : n%2==0, nlist))\n",
    "evens"
   ]
  },
  {
   "cell_type": "code",
   "execution_count": 33,
   "id": "pretty-lawrence",
   "metadata": {},
   "outputs": [
    {
     "data": {
      "text/plain": [
       "[4, 16, 36]"
      ]
     },
     "execution_count": 33,
     "metadata": {},
     "output_type": "execute_result"
    }
   ],
   "source": [
    "#map function\n",
    "\n",
    "# double the numbers in the list\n",
    "\n",
    "doubles = list(map(lambda a:a*a, evens))\n",
    "doubles"
   ]
  },
  {
   "cell_type": "code",
   "execution_count": 36,
   "id": "color-ready",
   "metadata": {},
   "outputs": [
    {
     "data": {
      "text/plain": [
       "56"
      ]
     },
     "execution_count": 36,
     "metadata": {},
     "output_type": "execute_result"
    }
   ],
   "source": [
    "# reduce function\n",
    "\n",
    "from functools import reduce\n",
    "\n",
    "sum = reduce(lambda a,b: a+b,doubles)\n",
    "sum"
   ]
  },
  {
   "cell_type": "code",
   "execution_count": 30,
   "id": "earlier-maryland",
   "metadata": {},
   "outputs": [],
   "source": [
    "#class\n",
    "\n",
    "class Computer:\n",
    "    \n",
    "    def __init__(self, cpu, ram):\n",
    "        self.cpu = cpu\n",
    "        self.ram = ram\n",
    "    \n",
    "    def config(self):\n",
    "        print(\"config is \", self.cpu, self.ram)"
   ]
  },
  {
   "cell_type": "code",
   "execution_count": 33,
   "id": "viral-delivery",
   "metadata": {},
   "outputs": [
    {
     "name": "stdout",
     "output_type": "stream",
     "text": [
      "config is  i7 32gb\n"
     ]
    }
   ],
   "source": [
    "comp7 = Computer('i7', '32gb')\n",
    "comp7.config()"
   ]
  },
  {
   "cell_type": "code",
   "execution_count": 59,
   "id": "completed-dealing",
   "metadata": {
    "scrolled": true
   },
   "outputs": [
    {
     "ename": "AttributeError",
     "evalue": "'Student' object has no attribute 'Laptop'",
     "output_type": "error",
     "traceback": [
      "\u001b[1;31m---------------------------------------------------------------------------\u001b[0m",
      "\u001b[1;31mAttributeError\u001b[0m                            Traceback (most recent call last)",
      "\u001b[1;32m<ipython-input-59-ec6898cad72a>\u001b[0m in \u001b[0;36m<module>\u001b[1;34m\u001b[0m\n\u001b[0;32m     11\u001b[0m                 \u001b[0mself\u001b[0m\u001b[1;33m.\u001b[0m\u001b[0mram\u001b[0m \u001b[1;33m=\u001b[0m \u001b[1;36m16\u001b[0m\u001b[1;33m\u001b[0m\u001b[1;33m\u001b[0m\u001b[0m\n\u001b[0;32m     12\u001b[0m \u001b[1;33m\u001b[0m\u001b[0m\n\u001b[1;32m---> 13\u001b[1;33m \u001b[0mjim\u001b[0m \u001b[1;33m=\u001b[0m \u001b[0mStudent\u001b[0m\u001b[1;33m(\u001b[0m\u001b[1;34m\"Jimmy Jam\"\u001b[0m\u001b[1;33m,\u001b[0m \u001b[1;36m9002021\u001b[0m\u001b[1;33m)\u001b[0m\u001b[1;33m\u001b[0m\u001b[1;33m\u001b[0m\u001b[0m\n\u001b[0m",
      "\u001b[1;32m<ipython-input-59-ec6898cad72a>\u001b[0m in \u001b[0;36m__init__\u001b[1;34m(self, name, matno)\u001b[0m\n\u001b[0;32m      3\u001b[0m         \u001b[0mself\u001b[0m\u001b[1;33m.\u001b[0m\u001b[0mname\u001b[0m \u001b[1;33m=\u001b[0m \u001b[0mname\u001b[0m\u001b[1;33m\u001b[0m\u001b[1;33m\u001b[0m\u001b[0m\n\u001b[0;32m      4\u001b[0m         \u001b[0mself\u001b[0m\u001b[1;33m.\u001b[0m\u001b[0mmatno\u001b[0m \u001b[1;33m=\u001b[0m \u001b[0mmatno\u001b[0m\u001b[1;33m\u001b[0m\u001b[1;33m\u001b[0m\u001b[0m\n\u001b[1;32m----> 5\u001b[1;33m         \u001b[0mself\u001b[0m\u001b[1;33m.\u001b[0m\u001b[0mlap\u001b[0m \u001b[1;33m=\u001b[0m \u001b[0mself\u001b[0m\u001b[1;33m.\u001b[0m\u001b[0mLaptop\u001b[0m\u001b[1;33m(\u001b[0m\u001b[1;33m)\u001b[0m\u001b[1;33m\u001b[0m\u001b[1;33m\u001b[0m\u001b[0m\n\u001b[0m\u001b[0;32m      6\u001b[0m \u001b[1;33m\u001b[0m\u001b[0m\n\u001b[0;32m      7\u001b[0m         \u001b[1;32mclass\u001b[0m \u001b[0mLaptop\u001b[0m\u001b[1;33m:\u001b[0m\u001b[1;33m\u001b[0m\u001b[1;33m\u001b[0m\u001b[0m\n",
      "\u001b[1;31mAttributeError\u001b[0m: 'Student' object has no attribute 'Laptop'"
     ]
    }
   ],
   "source": [
    "class Student:\n",
    "    def __init__(self, name, matno):\n",
    "        self.name = name\n",
    "        self.matno = matno\n",
    "        self.lap = self.Laptop()\n",
    "        \n",
    "        class Laptop:\n",
    "            def __init__(self):\n",
    "                self.brand = 'HP'\n",
    "                self.cpu = 'i5'\n",
    "                self.ram = 16\n",
    "        \n",
    "jim = Student(\"Jimmy Jam\", 9002021)\n"
   ]
  },
  {
   "cell_type": "markdown",
   "id": "invisible-shark",
   "metadata": {},
   "source": [
    "## Coding Classes on Jupyter notebook giving inconsistent results; moved over to vscode"
   ]
  },
  {
   "cell_type": "code",
   "execution_count": null,
   "id": "developed-pacific",
   "metadata": {},
   "outputs": [],
   "source": []
  }
 ],
 "metadata": {
  "kernelspec": {
   "display_name": "Python 3",
   "language": "python",
   "name": "python3"
  },
  "language_info": {
   "codemirror_mode": {
    "name": "ipython",
    "version": 3
   },
   "file_extension": ".py",
   "mimetype": "text/x-python",
   "name": "python",
   "nbconvert_exporter": "python",
   "pygments_lexer": "ipython3",
   "version": "3.9.7"
  }
 },
 "nbformat": 4,
 "nbformat_minor": 5
}
