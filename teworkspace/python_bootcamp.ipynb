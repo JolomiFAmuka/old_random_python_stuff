{
 "cells": [
  {
   "cell_type": "markdown",
   "id": "german-guide",
   "metadata": {},
   "source": [
    "## File Writing "
   ]
  },
  {
   "cell_type": "code",
   "execution_count": 1,
   "id": "ranking-monday",
   "metadata": {},
   "outputs": [
    {
     "name": "stdout",
     "output_type": "stream",
     "text": [
      "Overwriting myfile.txt\n"
     ]
    }
   ],
   "source": [
    "%%writefile myfile.txt\n",
    "This is a test file\n",
    "originally composed \n",
    "with python inside\n",
    "jupyter notebook"
   ]
  },
  {
   "cell_type": "code",
   "execution_count": 2,
   "id": "institutional-architecture",
   "metadata": {},
   "outputs": [],
   "source": [
    "file1 = open(\"myfile.txt\")"
   ]
  },
  {
   "cell_type": "code",
   "execution_count": 3,
   "id": "shared-knowing",
   "metadata": {},
   "outputs": [
    {
     "data": {
      "text/plain": [
       "0"
      ]
     },
     "execution_count": 3,
     "metadata": {},
     "output_type": "execute_result"
    }
   ],
   "source": [
    "file1.seek(0)\n",
    "conts = file1.read()\n",
    "file1.seek(0)"
   ]
  },
  {
   "cell_type": "code",
   "execution_count": 4,
   "id": "excited-colombia",
   "metadata": {},
   "outputs": [
    {
     "data": {
      "text/plain": [
       "'This is a test file\\noriginally composed \\nwith python inside\\njupyter notebook\\n'"
      ]
     },
     "execution_count": 4,
     "metadata": {},
     "output_type": "execute_result"
    }
   ],
   "source": [
    "conts"
   ]
  },
  {
   "cell_type": "code",
   "execution_count": 5,
   "id": "funky-bryan",
   "metadata": {},
   "outputs": [],
   "source": [
    "with open(\"myfile.txt\") as newfile:\n",
    "    contents = file1.read()"
   ]
  },
  {
   "cell_type": "code",
   "execution_count": 6,
   "id": "coordinate-binary",
   "metadata": {},
   "outputs": [
    {
     "data": {
      "text/plain": [
       "'This is a test file\\noriginally composed \\nwith python inside\\njupyter notebook\\n'"
      ]
     },
     "execution_count": 6,
     "metadata": {},
     "output_type": "execute_result"
    }
   ],
   "source": [
    "contents"
   ]
  },
  {
   "cell_type": "code",
   "execution_count": 7,
   "id": "dying-aquarium",
   "metadata": {},
   "outputs": [
    {
     "name": "stdout",
     "output_type": "stream",
     "text": [
      "Overwriting my_new_file.txt\n"
     ]
    }
   ],
   "source": [
    "%%writefile my_new_file.txt\n",
    "ONE ON 1ST\n",
    "TWO ON 2ND\n",
    "THREE ON 3RD"
   ]
  },
  {
   "cell_type": "code",
   "execution_count": 8,
   "id": "proud-generator",
   "metadata": {},
   "outputs": [
    {
     "name": "stdout",
     "output_type": "stream",
     "text": [
      "ONE ON 1ST\n",
      "TWO ON 2ND\n",
      "THREE ON 3RD\n",
      "\n"
     ]
    }
   ],
   "source": [
    "with open(\"my_new_file.txt\", mode='r') as f:\n",
    "    print(f.read())"
   ]
  },
  {
   "cell_type": "code",
   "execution_count": 9,
   "id": "comfortable-giant",
   "metadata": {},
   "outputs": [],
   "source": [
    "with open(\"my_new_file.txt\", mode='a') as f:\n",
    "    f.write(\"FOUR ON 4TH\")"
   ]
  },
  {
   "cell_type": "code",
   "execution_count": 10,
   "id": "elementary-touch",
   "metadata": {},
   "outputs": [
    {
     "name": "stdout",
     "output_type": "stream",
     "text": [
      "ONE ON 1ST\n",
      "TWO ON 2ND\n",
      "THREE ON 3RD\n",
      "FOUR ON 4TH\n"
     ]
    }
   ],
   "source": [
    "with open(\"my_new_file.txt\", mode='r') as f:\n",
    "    print(f.read())"
   ]
  },
  {
   "cell_type": "code",
   "execution_count": 11,
   "id": "promising-lobby",
   "metadata": {},
   "outputs": [
    {
     "data": {
      "text/plain": [
       "[3, 6, 9, 12, 15, 18, 21, 24, 27, 30, 33, 36, 39, 42, 45, 48]"
      ]
     },
     "execution_count": 11,
     "metadata": {},
     "output_type": "execute_result"
    }
   ],
   "source": [
    "[x for x in range(1,51) if x%3 == 0] # finds all numbers from 1 to 51 divisible by 3"
   ]
  },
  {
   "cell_type": "code",
   "execution_count": 12,
   "id": "widespread-pressure",
   "metadata": {},
   "outputs": [
    {
     "data": {
      "text/plain": [
       "[1,\n",
       " 3,\n",
       " 5,\n",
       " 7,\n",
       " 9,\n",
       " 11,\n",
       " 13,\n",
       " 15,\n",
       " 17,\n",
       " 19,\n",
       " 21,\n",
       " 23,\n",
       " 25,\n",
       " 27,\n",
       " 29,\n",
       " 31,\n",
       " 33,\n",
       " 35,\n",
       " 37,\n",
       " 39,\n",
       " 41,\n",
       " 43,\n",
       " 45,\n",
       " 47,\n",
       " 49]"
      ]
     },
     "execution_count": 12,
     "metadata": {},
     "output_type": "execute_result"
    }
   ],
   "source": [
    "[x for x in range(1,51) if x%2 == 1] # finds all the odd numbers from 1 to 51"
   ]
  },
  {
   "cell_type": "markdown",
   "id": "explicit-blackberry",
   "metadata": {},
   "source": [
    "## FizzBuzz program"
   ]
  },
  {
   "cell_type": "code",
   "execution_count": 13,
   "id": "upset-irish",
   "metadata": {},
   "outputs": [
    {
     "name": "stdout",
     "output_type": "stream",
     "text": [
      "1\n",
      "2\n",
      "Fizz\n",
      "4\n",
      "Buzz\n",
      "Fizz\n",
      "7\n",
      "8\n",
      "Fizz\n",
      "Buzz\n",
      "11\n",
      "Fizz\n",
      "13\n",
      "14\n",
      "FizzBuzz\n",
      "16\n",
      "17\n",
      "Fizz\n",
      "19\n",
      "Buzz\n",
      "Fizz\n",
      "22\n",
      "23\n",
      "Fizz\n",
      "Buzz\n",
      "26\n",
      "Fizz\n",
      "28\n",
      "29\n",
      "FizzBuzz\n",
      "31\n",
      "32\n",
      "Fizz\n",
      "34\n",
      "Buzz\n",
      "Fizz\n",
      "37\n",
      "38\n",
      "Fizz\n",
      "Buzz\n",
      "41\n",
      "Fizz\n",
      "43\n",
      "44\n",
      "FizzBuzz\n",
      "46\n",
      "47\n",
      "Fizz\n",
      "49\n",
      "Buzz\n",
      "Fizz\n",
      "52\n",
      "53\n",
      "Fizz\n",
      "Buzz\n",
      "56\n",
      "Fizz\n",
      "58\n",
      "59\n",
      "FizzBuzz\n",
      "61\n",
      "62\n",
      "Fizz\n",
      "64\n",
      "Buzz\n",
      "Fizz\n",
      "67\n",
      "68\n",
      "Fizz\n",
      "Buzz\n",
      "71\n",
      "Fizz\n",
      "73\n",
      "74\n",
      "FizzBuzz\n",
      "76\n",
      "77\n",
      "Fizz\n",
      "79\n",
      "Buzz\n",
      "Fizz\n",
      "82\n",
      "83\n",
      "Fizz\n",
      "Buzz\n",
      "86\n",
      "Fizz\n",
      "88\n",
      "89\n",
      "FizzBuzz\n",
      "91\n",
      "92\n",
      "Fizz\n",
      "94\n",
      "Buzz\n",
      "Fizz\n",
      "97\n",
      "98\n",
      "Fizz\n",
      "Buzz\n"
     ]
    }
   ],
   "source": [
    "for num in range(1, 101):\n",
    "    if num%3==0 and num%5==0:\n",
    "        print(\"FizzBuzz\")\n",
    "    elif num%3==0:\n",
    "        print(\"Fizz\")\n",
    "    elif num%5==0:\n",
    "        print(\"Buzz\")\n",
    "    else:\n",
    "        print(num)"
   ]
  },
  {
   "cell_type": "code",
   "execution_count": 14,
   "id": "beginning-orange",
   "metadata": {},
   "outputs": [],
   "source": [
    "mylist = [1,2,3,4,5]"
   ]
  },
  {
   "cell_type": "code",
   "execution_count": 15,
   "id": "sacred-rolling",
   "metadata": {},
   "outputs": [
    {
     "data": {
      "text/plain": [
       "<function list.insert(index, object, /)>"
      ]
     },
     "execution_count": 15,
     "metadata": {},
     "output_type": "execute_result"
    }
   ],
   "source": [
    "mylist.insert"
   ]
  },
  {
   "cell_type": "code",
   "execution_count": 16,
   "id": "realistic-syracuse",
   "metadata": {},
   "outputs": [],
   "source": [
    "a = 10\n",
    "b = 20"
   ]
  },
  {
   "cell_type": "code",
   "execution_count": 17,
   "id": "radio-inspection",
   "metadata": {},
   "outputs": [],
   "source": [
    "a,b=b,a"
   ]
  },
  {
   "cell_type": "code",
   "execution_count": 18,
   "id": "floral-springfield",
   "metadata": {},
   "outputs": [
    {
     "name": "stdout",
     "output_type": "stream",
     "text": [
      "b is now  10\n",
      "a is now 20\n"
     ]
    }
   ],
   "source": [
    "print(\"b is now \",b)\n",
    "print(\"a is now\", a)"
   ]
  },
  {
   "cell_type": "code",
   "execution_count": 19,
   "id": "earned-caution",
   "metadata": {},
   "outputs": [],
   "source": [
    "def sum_numbers(num1: int, num2: int) -> int:\n",
    "    return num1+num2"
   ]
  },
  {
   "cell_type": "code",
   "execution_count": 20,
   "id": "connected-diagnosis",
   "metadata": {},
   "outputs": [
    {
     "data": {
      "text/plain": [
       "20"
      ]
     },
     "execution_count": 20,
     "metadata": {},
     "output_type": "execute_result"
    }
   ],
   "source": [
    "sum_numbers(15, 5)"
   ]
  },
  {
   "cell_type": "code",
   "execution_count": 21,
   "id": "functioning-remedy",
   "metadata": {},
   "outputs": [],
   "source": [
    "work_hours = [(\"Femi\", 650),(\"Mervin\", 480),(\"Jide\", 531),(\"Sharath\", 776)]"
   ]
  },
  {
   "cell_type": "code",
   "execution_count": 22,
   "id": "exotic-companion",
   "metadata": {},
   "outputs": [],
   "source": [
    "def employee_check(work_hours):\n",
    "    max_hours = 0\n",
    "    best_employee = \"\"\n",
    "    for employee, hours in work_hours:\n",
    "        if hours > max_hours:\n",
    "            max_hours = hours\n",
    "            best_employee = employee\n",
    "        \n",
    "    return best_employee"
   ]
  },
  {
   "cell_type": "code",
   "execution_count": 23,
   "id": "convertible-chicago",
   "metadata": {},
   "outputs": [
    {
     "data": {
      "text/plain": [
       "'Sharath'"
      ]
     },
     "execution_count": 23,
     "metadata": {},
     "output_type": "execute_result"
    }
   ],
   "source": [
    "employee_check(work_hours)"
   ]
  },
  {
   "cell_type": "code",
   "execution_count": 24,
   "id": "substantial-hierarchy",
   "metadata": {},
   "outputs": [
    {
     "data": {
      "text/plain": [
       "[('Femi', 650), ('Mervin', 480), ('Jide', 531), ('Sharath', 776)]"
      ]
     },
     "execution_count": 24,
     "metadata": {},
     "output_type": "execute_result"
    }
   ],
   "source": [
    "work_hours"
   ]
  },
  {
   "cell_type": "markdown",
   "id": "moved-retention",
   "metadata": {},
   "source": [
    "## A Simple Guessing Game"
   ]
  },
  {
   "cell_type": "code",
   "execution_count": null,
   "id": "dying-crash",
   "metadata": {
    "scrolled": true
   },
   "outputs": [
    {
     "name": "stdout",
     "output_type": "stream",
     "text": [
      "make a guess(0,1,or 2 only): \n"
     ]
    }
   ],
   "source": [
    "from random import shuffle\n",
    "\n",
    "def shuffle_list(game_list):\n",
    "    shuffle(game_list)\n",
    "    return game_list\n",
    "\n",
    "def player_guess():\n",
    "    guess = \"\"\n",
    "    while guess not in ['0','1','2']:\n",
    "        guess = input(\"make a guess(0,1,or 2 only): \")\n",
    "    return int(guess)\n",
    "\n",
    "def check_guess(mylist, guess):\n",
    "    if mylist[guess] == 'O':\n",
    "        print(\"Correct Guess\")\n",
    "    else:\n",
    "        print(\"wrong Guess; Try Again!!\")\n",
    "        print(mylist)\n",
    "\n",
    "# Initial List\n",
    "mylist = ['','O','']\n",
    "\n",
    "# Shuffle It\n",
    "mixedup_list = shuffle_list(mylist)\n",
    "\n",
    "# Get User's Guess\n",
    "guess = player_guess()\n",
    "\n",
    "# Check User's Guess\n",
    "#------------------------\n",
    "# This function takes in the input \n",
    "# based on the output of other functions!\n",
    "check_guess(mixedup_list, guess)"
   ]
  },
  {
   "cell_type": "code",
   "execution_count": null,
   "id": "applied-connecticut",
   "metadata": {},
   "outputs": [],
   "source": [
    "word = \"abiodun\""
   ]
  },
  {
   "cell_type": "code",
   "execution_count": null,
   "id": "amazing-argument",
   "metadata": {},
   "outputs": [],
   "source": [
    "list(enumerate(word))"
   ]
  },
  {
   "cell_type": "code",
   "execution_count": null,
   "id": "hundred-greek",
   "metadata": {},
   "outputs": [],
   "source": [
    "for x, y in enumerate(word):\n",
    "    print(x,\"\"):"
   ]
  },
  {
   "cell_type": "markdown",
   "id": "annual-stewart",
   "metadata": {},
   "source": [
    "## Just for fun:\n",
    "PRINT BIG: Write a function that takes in a single letter, and returns a 5x5 representation of that letter\n",
    "print_big('a')\n",
    "\n",
    "out:   *  \n",
    "      * *\n",
    "     *****\n",
    "     *   *\n",
    "     *   *\n",
    "HINT: Consider making a dictionary of possible patterns, and mapping the alphabet to specific 5-line combinations of patterns.\n",
    "For purposes of this exercise, it's ok if your dictionary stops at \"E\"."
   ]
  },
  {
   "cell_type": "code",
   "execution_count": null,
   "id": "atlantic-error",
   "metadata": {},
   "outputs": [],
   "source": [
    "def letter_a():\n",
    "    print(\"    *   \")\n",
    "    print(\"   * *  \")\n",
    "    print(\"   ***  \")\n",
    "    print(\"   * *  \")\n",
    "\n",
    "def letter_b():\n",
    "    print(\" **\")\n",
    "    print(\" * *\")\n",
    "    print(\" * *\")\n",
    "    print(\" **\")\n",
    "    print(\" * *\")\n",
    "    print(\" * *\")\n",
    "    print(\" **\")\n",
    "    \n",
    "def letter_c():\n",
    "    print(\" ***\")\n",
    "    print(\" *\")\n",
    "    print(\" *\")\n",
    "    print(\" ***\")\n",
    "\n",
    "def letter_d():\n",
    "    print(\" ***\")\n",
    "    print(\" *  *\")\n",
    "    print(\" *  *\")\n",
    "    print(\" ***\")\n",
    "    \n",
    "def letter_e():\n",
    "    print(\"****\")\n",
    "    print(\"*\")\n",
    "    print(\"****\")\n",
    "    print(\"*\")\n",
    "    print(\"****\")\n",
    "    \n",
    "letter = input(\"Choose letter from a to e: \")\n",
    "    \n",
    "def print_big(letter):\n",
    "    letters = {'a': letter_a, 'b': letter_b, 'c': letter_c, 'd': letter_d, 'e': letter_e}\n",
    "    \n",
    "    if letter in letters.keys():\n",
    "        return letters[letter]()\n",
    "        \n",
    "print_big(letter)"
   ]
  },
  {
   "cell_type": "markdown",
   "id": "dynamic-specification",
   "metadata": {},
   "source": [
    "## Lesser of 2 evens:  Write a function that returns the lesser of two given numbers if both numbers are even, but returns the greater if one or both numbers are odd¶"
   ]
  },
  {
   "cell_type": "code",
   "execution_count": null,
   "id": "identical-emission",
   "metadata": {},
   "outputs": [],
   "source": [
    "def lesser_of_two_evens(a,b):\n",
    "    if a % 2 == 0 and b % 2 == 0:\n",
    "        return min(a,b)\n",
    "    return max(a,b)"
   ]
  },
  {
   "cell_type": "code",
   "execution_count": null,
   "id": "organizational-sunday",
   "metadata": {},
   "outputs": [],
   "source": [
    "lesser_of_two_evens(2,5)"
   ]
  },
  {
   "cell_type": "code",
   "execution_count": null,
   "id": "handy-vacuum",
   "metadata": {},
   "outputs": [],
   "source": [
    "lesser_of_two_evens(2,4)"
   ]
  },
  {
   "cell_type": "markdown",
   "id": "single-powell",
   "metadata": {},
   "source": [
    "## ANIMAL CRACKERS: Write a function takes a two-word string and returns True if both words begin with same letter"
   ]
  },
  {
   "cell_type": "code",
   "execution_count": null,
   "id": "emotional-harrison",
   "metadata": {},
   "outputs": [],
   "source": [
    "def animal_crackers(text):\n",
    "    txt_new = text.split(' ')\n",
    "    return txt_new[0][0] == txt_new[1][0]"
   ]
  },
  {
   "cell_type": "code",
   "execution_count": null,
   "id": "phantom-sailing",
   "metadata": {},
   "outputs": [],
   "source": [
    "animal_crackers('Levelheaded Llama')"
   ]
  },
  {
   "cell_type": "code",
   "execution_count": null,
   "id": "lightweight-student",
   "metadata": {},
   "outputs": [],
   "source": [
    "animal_crackers('Crazy Kangaroo')"
   ]
  },
  {
   "cell_type": "markdown",
   "id": "coral-mortality",
   "metadata": {},
   "source": [
    "## MAKES TWENTY: Given two integers, return True if the sum of the integers is 20 or if one of the integers is 20. If not, return False"
   ]
  },
  {
   "cell_type": "code",
   "execution_count": null,
   "id": "owned-criminal",
   "metadata": {},
   "outputs": [],
   "source": [
    "def makes_twenty(n1,n2):\n",
    "    return n1 + n2 == 20 or ((n1 == 20) or (n2 == 20))"
   ]
  },
  {
   "cell_type": "code",
   "execution_count": null,
   "id": "martial-database",
   "metadata": {},
   "outputs": [],
   "source": [
    "makes_twenty(20,10)"
   ]
  },
  {
   "cell_type": "code",
   "execution_count": null,
   "id": "hourly-experiment",
   "metadata": {},
   "outputs": [],
   "source": [
    "makes_twenty(2,3)"
   ]
  },
  {
   "cell_type": "markdown",
   "id": "careful-little",
   "metadata": {},
   "source": [
    "## OLD MACDONALD: Write a function that capitalizes the first and fourth letters of a name"
   ]
  },
  {
   "cell_type": "code",
   "execution_count": null,
   "id": "instant-intake",
   "metadata": {},
   "outputs": [],
   "source": [
    "def old_macdonald(name):\n",
    "    name1 = name[:3]\n",
    "    name2 = name[3:]\n",
    "    return name1.capitalize() + name2.capitalize()"
   ]
  },
  {
   "cell_type": "code",
   "execution_count": null,
   "id": "suitable-collector",
   "metadata": {},
   "outputs": [],
   "source": [
    "old_macdonald('macdonald')"
   ]
  },
  {
   "cell_type": "markdown",
   "id": "aquatic-wholesale",
   "metadata": {},
   "source": [
    "## MASTER YODA: Given a sentence, return a sentence with the words reversed"
   ]
  },
  {
   "cell_type": "code",
   "execution_count": null,
   "id": "independent-storm",
   "metadata": {},
   "outputs": [],
   "source": [
    "def master_yoda(text):\n",
    "    text = text.split()\n",
    "    text.reverse()\n",
    "    return \" \".join(text)"
   ]
  },
  {
   "cell_type": "code",
   "execution_count": null,
   "id": "spanish-saturday",
   "metadata": {},
   "outputs": [],
   "source": [
    "master_yoda('I am home')"
   ]
  },
  {
   "cell_type": "code",
   "execution_count": null,
   "id": "collected-provision",
   "metadata": {},
   "outputs": [],
   "source": [
    "master_yoda('We are ready')"
   ]
  },
  {
   "cell_type": "markdown",
   "id": "wicked-robertson",
   "metadata": {},
   "source": [
    "## FIND 33:\n",
    "Given a list of ints, return True if the array contains a 3 next to a 3 somewhere."
   ]
  },
  {
   "cell_type": "code",
   "execution_count": null,
   "id": "illegal-greensboro",
   "metadata": {},
   "outputs": [],
   "source": [
    "def has_33(nlist):\n",
    "    for x in range(0, len(nlist)-1):\n",
    "        if nlist[x] == 3 and nlist[x + 1] == 3:\n",
    "            return True\n",
    "    return False"
   ]
  },
  {
   "cell_type": "code",
   "execution_count": null,
   "id": "associate-condition",
   "metadata": {},
   "outputs": [],
   "source": [
    "has_33([1, 3, 3])"
   ]
  },
  {
   "cell_type": "code",
   "execution_count": null,
   "id": "beginning-price",
   "metadata": {},
   "outputs": [],
   "source": [
    "has_33([1, 3, 1, 3])"
   ]
  },
  {
   "cell_type": "code",
   "execution_count": null,
   "id": "assumed-workshop",
   "metadata": {},
   "outputs": [],
   "source": [
    "has_33([3, 1, 3])"
   ]
  },
  {
   "cell_type": "markdown",
   "id": "twenty-milwaukee",
   "metadata": {},
   "source": [
    "## PAPER DOLL: Given a string, return a string where for every character in the original there are three characters"
   ]
  },
  {
   "cell_type": "code",
   "execution_count": null,
   "id": "indonesian-arrow",
   "metadata": {},
   "outputs": [],
   "source": [
    "def paper_doll(word):\n",
    "    new_word = []\n",
    "    for x in word:\n",
    "        new_word.append(x*3)\n",
    "    return \"\".join(new_word)"
   ]
  },
  {
   "cell_type": "code",
   "execution_count": null,
   "id": "classified-rouge",
   "metadata": {},
   "outputs": [],
   "source": [
    "paper_doll(\"Hello\")"
   ]
  },
  {
   "cell_type": "code",
   "execution_count": null,
   "id": "south-hamburg",
   "metadata": {},
   "outputs": [],
   "source": [
    "paper_doll('Mississippi')"
   ]
  },
  {
   "cell_type": "markdown",
   "id": "technical-enemy",
   "metadata": {},
   "source": [
    "## BLACKJACK: Given three integers between 1 and 11, if their sum is less than or equal to 21, return their sum. If their sum exceeds 21 and there's an eleven, reduce the total sum by 10. Finally, if the sum (even after adjustment) exceeds 21, return 'BUST'\n",
    "blackjack(5,6,7) --> 18\n",
    "blackjack(9,9,9) --> 'BUST'\n",
    "blackjack(9,9,11) --> 19"
   ]
  },
  {
   "cell_type": "code",
   "execution_count": null,
   "id": "uniform-arnold",
   "metadata": {},
   "outputs": [],
   "source": [
    "def blackjack(a,b,c):\n",
    "    if a+b+c <= 21:\n",
    "        return a+b+c\n",
    "    elif a+b+c > 21 and ((a == 11) or (b == 11) or (c == 11)):\n",
    "            return (a+b+c)-10\n",
    "    else:\n",
    "        return 'BUST'"
   ]
  },
  {
   "cell_type": "code",
   "execution_count": null,
   "id": "shaped-detective",
   "metadata": {},
   "outputs": [],
   "source": [
    "blackjack(5,6,7)"
   ]
  },
  {
   "cell_type": "code",
   "execution_count": null,
   "id": "republican-library",
   "metadata": {},
   "outputs": [],
   "source": [
    "blackjack(9,9,9)"
   ]
  },
  {
   "cell_type": "code",
   "execution_count": null,
   "id": "charitable-nickel",
   "metadata": {},
   "outputs": [],
   "source": [
    "blackjack(9,9,11)"
   ]
  },
  {
   "cell_type": "markdown",
   "id": "metric-arbor",
   "metadata": {},
   "source": [
    "## SUMMER OF '69: Return the sum of the numbers in the array, except ignore sections of numbers starting with a 6 and extending to the next 9 (every 6 will be followed by at least one 9). Return 0 for no numbers\n",
    "summer_69([1, 3, 5]) --> 9\n",
    "summer_69([4, 5, 6, 7, 8, 9]) --> 9\n",
    "summer_69([2, 1, 6, 9, 11]) --> 14"
   ]
  },
  {
   "cell_type": "code",
   "execution_count": null,
   "id": "adverse-train",
   "metadata": {},
   "outputs": [],
   "source": [
    "def summer_69(arr):\n",
    "    total = 0\n",
    "    for num in arr:\n",
    "        if num in range(6,10):\n",
    "            continue\n",
    "        else:\n",
    "            total += num\n",
    "    return total"
   ]
  },
  {
   "cell_type": "code",
   "execution_count": null,
   "id": "presidential-danger",
   "metadata": {},
   "outputs": [],
   "source": [
    "summer_69([1, 3, 5])"
   ]
  },
  {
   "cell_type": "code",
   "execution_count": null,
   "id": "rubber-monaco",
   "metadata": {},
   "outputs": [],
   "source": [
    "summer_69([4, 5, 6, 7, 8, 9])"
   ]
  },
  {
   "cell_type": "code",
   "execution_count": null,
   "id": "subjective-model",
   "metadata": {},
   "outputs": [],
   "source": [
    " summer_69([2, 1, 6, 9, 11])"
   ]
  },
  {
   "cell_type": "markdown",
   "id": "wrapped-century",
   "metadata": {},
   "source": [
    "## SPY GAME: Write a function that takes in a list of integers and returns True if it contains 007 in order"
   ]
  },
  {
   "cell_type": "code",
   "execution_count": null,
   "id": "level-algebra",
   "metadata": {},
   "outputs": [],
   "source": [
    "def spy_game(arr):\n",
    "    newarr = []\n",
    "    for ni in arr:\n",
    "        if ni == 0 or ni == 7:\n",
    "            newarr.append(ni)\n",
    "    return newarr == [0,0,7]"
   ]
  },
  {
   "cell_type": "code",
   "execution_count": null,
   "id": "rental-humanitarian",
   "metadata": {},
   "outputs": [],
   "source": [
    "spy_game([1,2,4,0,0,7,5])"
   ]
  },
  {
   "cell_type": "code",
   "execution_count": null,
   "id": "actual-productivity",
   "metadata": {},
   "outputs": [],
   "source": [
    "spy_game([1,0,2,4,0,5,7])"
   ]
  },
  {
   "cell_type": "code",
   "execution_count": null,
   "id": "provincial-objective",
   "metadata": {},
   "outputs": [],
   "source": [
    "spy_game([1,7,2,0,4,5,0])"
   ]
  },
  {
   "cell_type": "markdown",
   "id": "related-relief",
   "metadata": {},
   "source": [
    "## COUNT PRIMES: Write a function that returns the number of prime numbers that exist up to and including a given number\n",
    "count_primes(100) --> 25"
   ]
  },
  {
   "cell_type": "code",
   "execution_count": null,
   "id": "boolean-thumb",
   "metadata": {},
   "outputs": [],
   "source": [
    "def count_primes(num):\n",
    "    counter = 0\n",
    "    for n in range(2, num+1):\n",
    "        prime = True\n",
    "        for i in range(2,n):\n",
    "            if (n%i == 0):\n",
    "                prime = False\n",
    "                break\n",
    "        if prime:\n",
    "            counter += 1\n",
    "    return counter"
   ]
  },
  {
   "cell_type": "code",
   "execution_count": null,
   "id": "demanding-volleyball",
   "metadata": {},
   "outputs": [],
   "source": [
    "count_primes(100)"
   ]
  },
  {
   "cell_type": "markdown",
   "id": "recreational-dancing",
   "metadata": {},
   "source": [
    "## Write a function that computes the volume of a sphere given its radius"
   ]
  },
  {
   "cell_type": "code",
   "execution_count": null,
   "id": "unlimited-uncertainty",
   "metadata": {},
   "outputs": [],
   "source": [
    "def vol(rad):\n",
    "    return (4/3) * (3.14159265)*(rad**3)"
   ]
  },
  {
   "cell_type": "code",
   "execution_count": null,
   "id": "possible-surprise",
   "metadata": {},
   "outputs": [],
   "source": [
    "vol(2)"
   ]
  },
  {
   "cell_type": "markdown",
   "id": "defined-loading",
   "metadata": {},
   "source": [
    "## Write a function that checks whether a number is in a given range (inclusive of high and low)"
   ]
  },
  {
   "cell_type": "code",
   "execution_count": null,
   "id": "pressed-brook",
   "metadata": {},
   "outputs": [],
   "source": [
    "def ran_check(num,low,high):\n",
    "    #return num in range(low, high)\n",
    "    if num in range(low, high):\n",
    "        return f\"{num} is within the number range {low} to {high}\"\n",
    "    else:\n",
    "        return \"NOT in range\""
   ]
  },
  {
   "cell_type": "code",
   "execution_count": null,
   "id": "distinct-atlas",
   "metadata": {},
   "outputs": [],
   "source": [
    "ran_check(5,2,7)"
   ]
  },
  {
   "cell_type": "code",
   "execution_count": null,
   "id": "complete-marijuana",
   "metadata": {},
   "outputs": [],
   "source": [
    "ran_check(15,2,7)"
   ]
  },
  {
   "cell_type": "markdown",
   "id": "human-vinyl",
   "metadata": {},
   "source": [
    "## Write a Python function that accepts a string and calculates the number of upper case letters and lower case letters."
   ]
  },
  {
   "cell_type": "code",
   "execution_count": null,
   "id": "funny-venice",
   "metadata": {},
   "outputs": [],
   "source": [
    "def up_low(s):\n",
    "    up_list = []\n",
    "    for letter in s:\n",
    "        if letter.isupper():\n",
    "            up_list.append(letter)\n",
    "    new_s = \"\".join(letter for letter in s if letter.isalpha())\n",
    "    print(s)\n",
    "    print(f\"No. of Upper case characters: {len(up_list)}\")\n",
    "    print(f\"No. of Lower case characters: {len(new_s)-len(up_list)}\")"
   ]
  },
  {
   "cell_type": "code",
   "execution_count": null,
   "id": "final-baker",
   "metadata": {},
   "outputs": [],
   "source": [
    "s = 'Hello Mr. Rogers, how are you this fine Tuesday?'\n",
    "up_low(s)"
   ]
  },
  {
   "cell_type": "markdown",
   "id": "afraid-antarctica",
   "metadata": {},
   "source": [
    "## Write a Python function that takes a list and returns a new list with unique elements of the first list."
   ]
  },
  {
   "cell_type": "code",
   "execution_count": null,
   "id": "martial-master",
   "metadata": {},
   "outputs": [],
   "source": [
    "def unique_list(lst):\n",
    "    return list(set(lst))"
   ]
  },
  {
   "cell_type": "code",
   "execution_count": null,
   "id": "hydraulic-easter",
   "metadata": {},
   "outputs": [],
   "source": [
    "unique_list([1,1,1,1,2,2,3,3,3,3,4,5])"
   ]
  },
  {
   "cell_type": "markdown",
   "id": "insured-messaging",
   "metadata": {},
   "source": [
    "## Write a Python function to multiply all the numbers in a list."
   ]
  },
  {
   "cell_type": "code",
   "execution_count": null,
   "id": "established-formation",
   "metadata": {},
   "outputs": [],
   "source": [
    "def multiply(numbers):  \n",
    "    total = 1\n",
    "    for num in numbers:\n",
    "        total *= num\n",
    "    return total"
   ]
  },
  {
   "cell_type": "code",
   "execution_count": null,
   "id": "union-singles",
   "metadata": {},
   "outputs": [],
   "source": [
    "multiply([1,2,3,-4])"
   ]
  },
  {
   "cell_type": "markdown",
   "id": "quiet-scoop",
   "metadata": {},
   "source": [
    "## Write a Python function that checks whether a word or phrase is palindrome or not."
   ]
  },
  {
   "cell_type": "code",
   "execution_count": null,
   "id": "protected-patient",
   "metadata": {},
   "outputs": [],
   "source": [
    "def palindrome(s):\n",
    "    return s == s[::-1]"
   ]
  },
  {
   "cell_type": "code",
   "execution_count": null,
   "id": "protective-break",
   "metadata": {},
   "outputs": [],
   "source": [
    "palindrome('helleh')"
   ]
  },
  {
   "cell_type": "markdown",
   "id": "ancient-fashion",
   "metadata": {},
   "source": [
    "## Write a Python function to check whether a string is pangram or not. (Assume the string passed in does not have any punctuation)\n",
    "Note : Pangrams are words or sentences containing every letter of the alphabet at least once. For example : \"The quick brown fox jumps over the lazy dog\""
   ]
  },
  {
   "cell_type": "code",
   "execution_count": null,
   "id": "declared-participation",
   "metadata": {},
   "outputs": [],
   "source": [
    "import string\n",
    "\n",
    "def ispangram(str1, alphabet=string.ascii_lowercase):\n",
    "    new_list = []\n",
    "    new_str1 = \"\".join(letter for letter in str1 if  letter.isalpha())\n",
    "    for letter in new_str1.lower():\n",
    "        if letter in string.ascii_lowercase:\n",
    "            new_list.append(letter)\n",
    "    return len(new_list) == len(new_str1)"
   ]
  },
  {
   "cell_type": "code",
   "execution_count": null,
   "id": "copyrighted-compatibility",
   "metadata": {},
   "outputs": [],
   "source": [
    "ispangram(\"The quick brown fox jumps over the lazy dog\")"
   ]
  },
  {
   "cell_type": "code",
   "execution_count": null,
   "id": "hollywood-particle",
   "metadata": {},
   "outputs": [],
   "source": []
  },
  {
   "cell_type": "code",
   "execution_count": null,
   "id": "textile-treasurer",
   "metadata": {},
   "outputs": [],
   "source": []
  },
  {
   "cell_type": "code",
   "execution_count": null,
   "id": "complex-animal",
   "metadata": {},
   "outputs": [],
   "source": [
    "def print_board(r1,r2,r3):\n",
    "    print(r1)\n",
    "    print(r2)\n",
    "    print(r3)\n",
    "    \n",
    "row1 = [' ',' ',' ']\n",
    "row2 = [' ',' ',' ']\n",
    "row3 = [' ',' ',' ']\n",
    "\n",
    "print_board(row1,row2,row3)"
   ]
  },
  {
   "cell_type": "code",
   "execution_count": null,
   "id": "czech-drama",
   "metadata": {},
   "outputs": [],
   "source": [
    "row3[1] = 'X'"
   ]
  },
  {
   "cell_type": "code",
   "execution_count": null,
   "id": "immune-subcommittee",
   "metadata": {},
   "outputs": [],
   "source": [
    "print_board(row1,row2,row3)"
   ]
  },
  {
   "cell_type": "code",
   "execution_count": null,
   "id": "entertaining-extent",
   "metadata": {},
   "outputs": [],
   "source": [
    "def get_input():\n",
    "    \n",
    "    choice = 'wrong'\n",
    "    \n",
    "    while choice.isdigit() == False:\n",
    "        \n",
    "        choice = input(\"Enter a choice btw 1-10: \")\n",
    "        \n",
    "        if choice.isdigit() == False:\n",
    "            print(\"Enter digit please\")\n",
    "        \n",
    "    return int(choice)"
   ]
  },
  {
   "cell_type": "code",
   "execution_count": null,
   "id": "legal-custody",
   "metadata": {
    "scrolled": true
   },
   "outputs": [],
   "source": [
    "get_input()"
   ]
  },
  {
   "cell_type": "code",
   "execution_count": null,
   "id": "bright-sense",
   "metadata": {},
   "outputs": [],
   "source": [
    "from IPython.display import clear_output\n",
    "\n",
    "def user_input():\n",
    "    \n",
    "    choice = \"wrong\"\n",
    "    \n",
    "    while choice not in [\"0\",\"1\",\"2\"]:\n",
    "        \n",
    "        choice = input(\"Enter a choice(0,1,2): \")\n",
    "        \n",
    "        if choice not in [\"0\",\"1\",\"2\"]:\n",
    "            clear_output()\n",
    "            print(\"Please enter a value within range (0,1,2)\")\n",
    "            \n",
    "    return int(choice)\n",
    "            "
   ]
  },
  {
   "cell_type": "code",
   "execution_count": null,
   "id": "powerful-youth",
   "metadata": {},
   "outputs": [],
   "source": [
    "user_input()"
   ]
  },
  {
   "cell_type": "code",
   "execution_count": null,
   "id": "satellite-promotion",
   "metadata": {},
   "outputs": [],
   "source": [
    "\"0\" in [\"0\",\"1\",\"2\"]"
   ]
  },
  {
   "cell_type": "code",
   "execution_count": null,
   "id": "cathedral-wrong",
   "metadata": {},
   "outputs": [],
   "source": []
  },
  {
   "cell_type": "code",
   "execution_count": 27,
   "id": "illegal-monte",
   "metadata": {},
   "outputs": [],
   "source": [
    "##tic-tac-toe ; pre-game functions\n",
    "##1. Welcome message\n",
    "##2. Display board\n",
    "##3. Get user position choice\n",
    "##4. Get user string preference\n",
    "##5. Ask player if he wants to continue playing\n",
    "\n",
    "##1 & 2\n",
    "def display_game(game_list):\n",
    "    print(\"Welcome to TIC-TAC-TOE City\")\n",
    "    print(game_list)\n",
    "    \n",
    "##3\n",
    "def position_choice():\n",
    "    from IPython.display import clear_output\n",
    "    choice = 'wrong'\n",
    "    \n",
    "    while choice not in ['0','1','2']:\n",
    "        \n",
    "        choice = input('Enter position value (0,1,2): ')\n",
    "        \n",
    "        if choice not in ['0','1','2']:\n",
    "            clear_output()\n",
    "            print('Wrong input; select (0,1,2)')\n",
    "            \n",
    "    return int(choice)\n",
    "\n",
    "##4\n",
    "def user_pref(game_list, position):\n",
    "    \n",
    "    user_preference = input(\"what is your avatar? \")\n",
    "    game_list[position] = user_preference\n",
    "    return game_list\n",
    "\n",
    "##5\n",
    "def game_choice():\n",
    "    \n",
    "    choice = 'wrong'\n",
    "    \n",
    "    while choice not in ['Y','N']:\n",
    "        \n",
    "        choice = input('would you like to keep playing? Y or N')\n",
    "        \n",
    "        if choice not in ['Y','N']:\n",
    "            print(\"Sorry, i don't understand. Choose 'Y' or 'N'\")\n",
    "            \n",
    "    if choice == 'Y':\n",
    "        return True\n",
    "    else:\n",
    "        return False\n",
    "    \n",
    "    "
   ]
  },
  {
   "cell_type": "code",
   "execution_count": 28,
   "id": "developing-photography",
   "metadata": {},
   "outputs": [
    {
     "name": "stdout",
     "output_type": "stream",
     "text": [
      "Welcome to TIC-TAC-TOE City\n",
      "['red', 1, 2]\n",
      "would you like to keep playing? Y or NN\n"
     ]
    }
   ],
   "source": [
    "## Put the pieces all together\n",
    "from IPython.display import clear_output\n",
    "game_on = True #variable to keep game playing\n",
    "\n",
    "game_list = [0,1,2] #First game lisr\n",
    "\n",
    "while game_on:\n",
    "    #clear any historical output and display the game\n",
    "    clear_output()\n",
    "    display_game(game_list)\n",
    "    \n",
    "    #player chooses position\n",
    "    position = position_choice()\n",
    "    \n",
    "    #rewrite position and update the game\n",
    "    game_show = user_pref(game_list, position)\n",
    "    \n",
    "    #clear output and display the updated game\n",
    "    clear_output()\n",
    "    display_game(game_show)\n",
    "    \n",
    "    #ask if player wants to continue\n",
    "    game_on = game_choice()\n",
    "    "
   ]
  },
  {
   "cell_type": "markdown",
   "id": "centered-process",
   "metadata": {},
   "source": [
    "## TIC-TAC-TOE Game :- MileStone Project 1"
   ]
  },
  {
   "cell_type": "code",
   "execution_count": null,
   "id": "accessible-stuart",
   "metadata": {},
   "outputs": [],
   "source": [
    "##1. draw up a tic-tac-toe board\n",
    "from IPython.display import clear_output\n",
    "def display_board(board):\n",
    "    clear_output()\n",
    "    print(board[7] + \"|\" + board[8] + \"|\" + board[9])\n",
    "    print(\"=|=|=\")\n",
    "    print(board[4] + \"|\" + board[5] + \"|\" + board[6])\n",
    "    print(\"=|=|=\")\n",
    "    print(board[1] + \"|\" + board[2] + \"|\" + board[3])\n",
    "    \n",
    "##2. get player input and assign 'X' and 'O'\n",
    "\n",
    "def player_input():\n",
    "    \n",
    "    marker = ''\n",
    "    \n",
    "    while marker != 'X' and marker != 'O':\n",
    "        marker = input(\"Player1: choose 'X' or 'O': \").upper()\n",
    "                       \n",
    "    if marker == 'X':\n",
    "        return ('X', 'O')\n",
    "    else:\n",
    "        return ('O', 'X')\n",
    "    \n",
    "##3: Write a function that takes in the board list object, a marker ('X' or 'O'), and a desired position (number 1-9) and assigns it to the board\n",
    "\n",
    "def place_marker(board, marker, position):\n",
    "    \n",
    "    board[position] = marker\n",
    "    \n",
    "##4: Write a function that takes in a board and a mark (X or O) and then checks to see if that mark has won\n",
    "\n",
    "def win_check(board,mark):\n",
    "    \n",
    "    return ((board[7] == mark and board[8] == mark and board[9] == mark) or # across the top\n",
    "    (board[4] == mark and board[5] == mark and board[6] == mark) or # across the middle\n",
    "    (board[1] == mark and board[2] == mark and board[3] == mark) or # across the bottom\n",
    "    (board[7] == mark and board[4] == mark and board[1] == mark) or # down the middle\n",
    "    (board[8] == mark and board[5] == mark and board[2] == mark) or # down the middle\n",
    "    (board[9] == mark and board[6] == mark and board[3] == mark) or # down the right side\n",
    "    (board[7] == mark and board[5] == mark and board[3] == mark) or # diagonal\n",
    "    (board[9] == mark and board[5] == mark and board[1] == mark)) # diagonal\n",
    "\n",
    "'''\n",
    "5\n",
    "Write a function that uses the random module to randomly decide which player goes first. \n",
    "You may want to lookup random.randint() Return a string of which player went first.\n",
    "\n",
    "'''\n",
    "\n",
    "import random\n",
    "\n",
    "def choose_first():\n",
    "    if random.randint(0,1) == 0:\n",
    "        return \"Player1\"\n",
    "    else:\n",
    "        return \"Player2\"\n",
    "    \n",
    "## 6: Write a function that returns a boolean indicating whether a space on the board is freely available.\n",
    "\n",
    "def space_check(board, position):\n",
    "    \n",
    "    return board[position] == ' '\n",
    "\n",
    "##7: Write a function that checks if the board is full and returns a boolean value. True if full, False otherwise.\n",
    "\n",
    "def full_board_check(board):\n",
    "    \n",
    "    for i in range(1,10):\n",
    "        if space_check(board, i):\n",
    "            return False\n",
    "    return True\n",
    "    \n",
    "'''\n",
    "8: Write a function that asks for a player's next position (as a number 1-9) and then uses the function from step 6 to  \n",
    "check if it's a free position. If it is, then return the position for later use.\n",
    "'''\n",
    "\n",
    "def player_choice(board):\n",
    "    \n",
    "    position = 0\n",
    "    \n",
    "    while position not in [1,2,3,4,5,6,7,8,9] or not space_check(board, position):\n",
    "        position = int(input('Choose your next position(1-9): '))\n",
    "    return position\n",
    "\n",
    "'''\n",
    "9: Write a function that asks the player if they want to play again and returns a boolean True if \n",
    "they do want to play again.\n",
    "'''\n",
    "\n",
    "def replay():\n",
    "    return input('Do you want to play again? Enter Yes or No: ').lower().startswith('y')\n",
    "\n",
    "## 10: Here comes the hard part! Use while loops and the functions you've made to run the game!\n",
    "\n",
    "print('Welcome to Tic Tac Toe!')\n",
    "\n",
    "while True:\n",
    "    # Reset the board\n",
    "    theBoard = [' '] * 10\n",
    "    player1_marker, player2_marker = player_input()\n",
    "    turn = choose_first()\n",
    "    print(turn + ' will go first.')\n",
    "    \n",
    "    play_game = input('Are you ready to play? Enter Yes or No.')\n",
    "    \n",
    "    if play_game.lower()[0] == 'y':\n",
    "        game_on = True\n",
    "    else:\n",
    "        game_on = False\n",
    "\n",
    "    while game_on:\n",
    "        if turn == 'Player 1':\n",
    "            # Player1's turn.\n",
    "            \n",
    "            display_board(theBoard)\n",
    "            position = player_choice(theBoard)\n",
    "            place_marker(theBoard, player1_marker, position)\n",
    "\n",
    "            if win_check(theBoard, player1_marker):\n",
    "                display_board(theBoard)\n",
    "                print('Congratulations! You have won the game!')\n",
    "                game_on = False\n",
    "            else:\n",
    "                if full_board_check(theBoard):\n",
    "                    display_board(theBoard)\n",
    "                    print('The game is a draw!')\n",
    "                    break\n",
    "                else:\n",
    "                    turn = 'Player 2'\n",
    "\n",
    "        else:\n",
    "            # Player2's turn.\n",
    "            \n",
    "            display_board(theBoard)\n",
    "            position = player_choice(theBoard)\n",
    "            place_marker(theBoard, player2_marker, position)\n",
    "\n",
    "            if win_check(theBoard, player2_marker):\n",
    "                display_board(theBoard)\n",
    "                print('Player 2 has won!')\n",
    "                game_on = False\n",
    "            else:\n",
    "                if full_board_check(theBoard):\n",
    "                    display_board(theBoard)\n",
    "                    print('The game is a draw!')\n",
    "                    break\n",
    "                else:\n",
    "                    turn = 'Player 1'\n",
    "\n",
    "    if not replay():\n",
    "        break"
   ]
  },
  {
   "cell_type": "code",
   "execution_count": null,
   "id": "legendary-permission",
   "metadata": {},
   "outputs": [],
   "source": []
  },
  {
   "cell_type": "code",
   "execution_count": 1,
   "id": "disabled-adelaide",
   "metadata": {},
   "outputs": [],
   "source": [
    "## CLASS/INHERITANCE/POLYMORPHISM"
   ]
  },
  {
   "cell_type": "code",
   "execution_count": 13,
   "id": "coral-forestry",
   "metadata": {},
   "outputs": [],
   "source": [
    "class Animal:\n",
    "    \n",
    "    def __init__(self):\n",
    "        print(\"Animal Created\")\n",
    "        \n",
    "    def who_am_i(self):\n",
    "        print(\"I am an animal\")\n",
    "        \n",
    "    def eating(self):\n",
    "        print(\"I am eating\")"
   ]
  },
  {
   "cell_type": "code",
   "execution_count": 17,
   "id": "variable-harvey",
   "metadata": {},
   "outputs": [],
   "source": [
    "class Dog(Animal):\n",
    "    \n",
    "    def __init__(self):\n",
    "        Animal.__init__(self)\n",
    "        print(\"Dog Created!!\")\n",
    "        \n",
    "    def who_am_i(self):    ##Override inherited method\n",
    "        print(\"I am a Dog\")"
   ]
  },
  {
   "cell_type": "code",
   "execution_count": 18,
   "id": "directed-castle",
   "metadata": {},
   "outputs": [
    {
     "name": "stdout",
     "output_type": "stream",
     "text": [
      "Animal Created\n",
      "Dog Created!!\n"
     ]
    }
   ],
   "source": [
    "mydog = Dog()"
   ]
  },
  {
   "cell_type": "code",
   "execution_count": 19,
   "id": "narrative-concept",
   "metadata": {},
   "outputs": [
    {
     "name": "stdout",
     "output_type": "stream",
     "text": [
      "I am a Dog\n"
     ]
    }
   ],
   "source": [
    "mydog.who_am_i()"
   ]
  },
  {
   "cell_type": "code",
   "execution_count": 54,
   "id": "major-fleet",
   "metadata": {},
   "outputs": [],
   "source": [
    "\n",
    "## Special/Magic Methods\n",
    "\n",
    "class Book:\n",
    "    \n",
    "    def __init__(self, name, author, pages):\n",
    "        self.name = name\n",
    "        self.author = author\n",
    "        self.pages = pages\n",
    "        \n",
    "    def __str__(self): ## __str__magic method to \"stringify\" object and make it printable\n",
    "        return f\"'{self.name}' by {self.author}\"\n",
    "    \n",
    "    def __len__(self): ## __len__ magic method makes objects callable by len() method\n",
    "        return self.pages"
   ]
  },
  {
   "cell_type": "code",
   "execution_count": 55,
   "id": "applied-macedonia",
   "metadata": {},
   "outputs": [],
   "source": [
    "beeBook = Book(\"The Bee Book\", \"Aufora Oke\", 234) "
   ]
  },
  {
   "cell_type": "code",
   "execution_count": 56,
   "id": "durable-gauge",
   "metadata": {},
   "outputs": [
    {
     "name": "stdout",
     "output_type": "stream",
     "text": [
      "'The Bee Book' by Aufora Oke\n"
     ]
    }
   ],
   "source": [
    "print(beeBook)"
   ]
  },
  {
   "cell_type": "code",
   "execution_count": 57,
   "id": "tight-cleveland",
   "metadata": {},
   "outputs": [
    {
     "data": {
      "text/plain": [
       "234"
      ]
     },
     "execution_count": 57,
     "metadata": {},
     "output_type": "execute_result"
    }
   ],
   "source": [
    "len(beeBook)"
   ]
  },
  {
   "cell_type": "markdown",
   "id": "better-oakland",
   "metadata": {},
   "source": [
    "## Errors and Exceptions Homework"
   ]
  },
  {
   "cell_type": "code",
   "execution_count": 5,
   "id": "metropolitan-actor",
   "metadata": {},
   "outputs": [
    {
     "name": "stdout",
     "output_type": "stream",
     "text": [
      "something went wrong here!!\n"
     ]
    }
   ],
   "source": [
    "\n",
    "#1.\n",
    "try:\n",
    "    for i in ['a','b','c']:\n",
    "        print(x**2)\n",
    "except TypeError:\n",
    "    print(\"Check the values; there is a Type Mismatch\")\n",
    "except:\n",
    "    print(\"something went wrong here!!\")"
   ]
  },
  {
   "cell_type": "code",
   "execution_count": 2,
   "id": "corresponding-keeping",
   "metadata": {},
   "outputs": [
    {
     "name": "stdout",
     "output_type": "stream",
     "text": [
      "Something has gone wrong here\n",
      "All done here!!\n"
     ]
    }
   ],
   "source": [
    "#2.\n",
    "\n",
    "try:\n",
    "    x = 'a'\n",
    "    y = 3\n",
    "\n",
    "    z = x/y\n",
    "\n",
    "except ZeroDivisionError:\n",
    "    print(\"Zero cannot be used as denominator\")\n",
    "\n",
    "except:\n",
    "    print(\"Something has gone wrong here\")\n",
    "\n",
    "else:\n",
    "    print(z)\n",
    "\n",
    "finally:\n",
    "    print('All done here!!')"
   ]
  },
  {
   "cell_type": "code",
   "execution_count": 5,
   "id": "imported-prompt",
   "metadata": {},
   "outputs": [
    {
     "name": "stdout",
     "output_type": "stream",
     "text": [
      "incorrect value inputted\n",
      "incorrect value inputted\n",
      "Your number, 3 squared is 9\n"
     ]
    }
   ],
   "source": [
    "#3. Write a function that asks for an integer and prints the square of it. \n",
    "# Use a while loop with a try, except, else block to account for incorrect inputs.\n",
    "\n",
    "def ask():\n",
    "    while True:\n",
    "        try:\n",
    "            aa = int(input(\"select a number: \"))\n",
    "        except ValueError:\n",
    "            print(\"incorrect value inputted\\nPlease try again\\n\")\n",
    "            continue\n",
    "        else:\n",
    "            print(f\"Your number, {aa} squared is {aa**2}\")\n",
    "            break\n",
    "\n",
    "ask()"
   ]
  }
 ],
 "metadata": {
  "interpreter": {
   "hash": "33dc6d49505b4536b6a128d9d7c879e1fa44477ad44947bbbe73093067fe6393"
  },
  "kernelspec": {
   "display_name": "Python 3",
   "language": "python",
   "name": "python3"
  },
  "language_info": {
   "codemirror_mode": {
    "name": "ipython",
    "version": 3
   },
   "file_extension": ".py",
   "mimetype": "text/x-python",
   "name": "python",
   "nbconvert_exporter": "python",
   "pygments_lexer": "ipython3",
   "version": "3.9.7"
  }
 },
 "nbformat": 4,
 "nbformat_minor": 5
}
