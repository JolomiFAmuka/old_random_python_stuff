{
 "cells": [
  {
   "cell_type": "markdown",
   "id": "right-compatibility",
   "metadata": {},
   "source": [
    "#  Guides to creating a board game\n",
    "1. Display something to the user\n",
    "2. Let the user update through interaction\n",
    "3. update variables in the program\n",
    "4. Display the updated visual"
   ]
  },
  {
   "cell_type": "code",
   "execution_count": 2,
   "id": "trying-blast",
   "metadata": {},
   "outputs": [],
   "source": [
    "# create a game board\n",
    "game_list = [\"0\",\"1\",\"2\"]\n",
    "\n",
    "#create a display function\n",
    "\n",
    "def display_game(game_list):\n",
    "    print(game_list)"
   ]
  },
  {
   "cell_type": "code",
   "execution_count": null,
   "id": "lyric-danish",
   "metadata": {},
   "outputs": [],
   "source": []
  }
 ],
 "metadata": {
  "kernelspec": {
   "display_name": "Python 3",
   "language": "python",
   "name": "python3"
  },
  "language_info": {
   "codemirror_mode": {
    "name": "ipython",
    "version": 3
   },
   "file_extension": ".py",
   "mimetype": "text/x-python",
   "name": "python",
   "nbconvert_exporter": "python",
   "pygments_lexer": "ipython3",
   "version": "3.9.7"
  }
 },
 "nbformat": 4,
 "nbformat_minor": 5
}
