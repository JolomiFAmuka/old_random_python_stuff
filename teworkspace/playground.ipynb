{
 "cells": [
  {
   "cell_type": "code",
   "execution_count": 11,
   "id": "discrete-september",
   "metadata": {},
   "outputs": [],
   "source": [
    "class Dog():\n",
    "    species = \"mammal\"\n",
    "    def __init__(self, breed, name):\n",
    "        self.breed = breed\n",
    "        self.name = name\n",
    "        \n",
    "        "
   ]
  },
  {
   "cell_type": "code",
   "execution_count": 12,
   "id": "improving-mapping",
   "metadata": {},
   "outputs": [],
   "source": [
    "my_dog = Dog(\"Lab\",\"Roy\")"
   ]
  },
  {
   "cell_type": "code",
   "execution_count": 13,
   "id": "aggregate-destination",
   "metadata": {},
   "outputs": [
    {
     "data": {
      "text/plain": [
       "'mammal'"
      ]
     },
     "execution_count": 13,
     "metadata": {},
     "output_type": "execute_result"
    }
   ],
   "source": [
    "my_dog.species"
   ]
  },
  {
   "cell_type": "code",
   "execution_count": 35,
   "id": "unexpected-contract",
   "metadata": {},
   "outputs": [],
   "source": [
    "class Account():\n",
    "    def __init__(self, owner, balance):\n",
    "        self.owner = owner\n",
    "        self.balance = balance\n",
    "        \n",
    "    def deposit(self, amount):\n",
    "        return self.balance + amount\n",
    "    \n",
    "    def withdraw(self, amount):\n",
    "        if amount < self.balance:\n",
    "            return self.balance - amount\n",
    "        else:\n",
    "            return(\"Insufficient funds\")\n",
    "        \n",
    "    def __str__(self):\n",
    "        return f\"Account Owner: {uba1.owner}\\nAccount Balance: {uba1.balance}\""
   ]
  },
  {
   "cell_type": "code",
   "execution_count": 32,
   "id": "advanced-twist",
   "metadata": {},
   "outputs": [],
   "source": [
    "uba1 = Account(\"jide\", 3200)"
   ]
  },
  {
   "cell_type": "code",
   "execution_count": 25,
   "id": "critical-plant",
   "metadata": {},
   "outputs": [
    {
     "data": {
      "text/plain": [
       "3400"
      ]
     },
     "execution_count": 25,
     "metadata": {},
     "output_type": "execute_result"
    }
   ],
   "source": [
    "uba1.deposit(200)"
   ]
  },
  {
   "cell_type": "code",
   "execution_count": 27,
   "id": "manufactured-track",
   "metadata": {},
   "outputs": [
    {
     "data": {
      "text/plain": [
       "1200"
      ]
     },
     "execution_count": 27,
     "metadata": {},
     "output_type": "execute_result"
    }
   ],
   "source": [
    "uba1.withdraw(2000)"
   ]
  },
  {
   "cell_type": "code",
   "execution_count": 33,
   "id": "corrected-portrait",
   "metadata": {},
   "outputs": [
    {
     "name": "stdout",
     "output_type": "stream",
     "text": [
      "Account Owner: jide\n",
      "Account Balance: 3200\n"
     ]
    }
   ],
   "source": [
    "print(uba1)"
   ]
  },
  {
   "cell_type": "code",
   "execution_count": 2,
   "id": "fiscal-discount",
   "metadata": {},
   "outputs": [
    {
     "name": "stdout",
     "output_type": "stream",
     "text": [
      "Whoops!!!there is a problem\n",
      "a\n",
      "Whoops!!!there is a problem\n",
      "b\n",
      "Whoops!!!there is a problem\n",
      "c\n"
     ]
    }
   ],
   "source": [
    "for i in ['a','b','c']:\n",
    "    try:\n",
    "        print(i**2)\n",
    "    except:\n",
    "        print(\"Whoops!!!there is a problem\")\n",
    "    finally:\n",
    "        print(i)"
   ]
  },
  {
   "cell_type": "code",
   "execution_count": 3,
   "id": "valued-tunnel",
   "metadata": {},
   "outputs": [],
   "source": [
    "def ask():\n",
    "    while True:\n",
    "        try:\n",
    "            num = int(input(\"number please: \"))\n",
    "        except:\n",
    "            print(\"Mistake! try again\")\n",
    "            continue\n",
    "        else:\n",
    "            break\n",
    "            \n",
    "    print(f\"your number is {num}\")\n",
    "    print(f\"the square of {num} is {num**2}\")"
   ]
  },
  {
   "cell_type": "code",
   "execution_count": 5,
   "id": "silent-seeking",
   "metadata": {},
   "outputs": [
    {
     "name": "stdout",
     "output_type": "stream",
     "text": [
      "number please: w\n",
      "Mistake! try again\n",
      "number please: r\n",
      "Mistake! try again\n",
      "number please: q\n",
      "Mistake! try again\n",
      "number please: 10\n",
      "your number is 10\n",
      "the square of 10 is 100\n"
     ]
    }
   ],
   "source": [
    "ask()"
   ]
  },
  {
   "cell_type": "code",
   "execution_count": null,
   "id": "alpine-trout",
   "metadata": {},
   "outputs": [],
   "source": []
  }
 ],
 "metadata": {
  "kernelspec": {
   "display_name": "Python 3",
   "language": "python",
   "name": "python3"
  },
  "language_info": {
   "codemirror_mode": {
    "name": "ipython",
    "version": 3
   },
   "file_extension": ".py",
   "mimetype": "text/x-python",
   "name": "python",
   "nbconvert_exporter": "python",
   "pygments_lexer": "ipython3",
   "version": "3.9.7"
  }
 },
 "nbformat": 4,
 "nbformat_minor": 5
}
