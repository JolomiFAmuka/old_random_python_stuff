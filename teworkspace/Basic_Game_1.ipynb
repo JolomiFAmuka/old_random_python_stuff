{
 "cells": [
  {
   "cell_type": "markdown",
   "id": "handled-senate",
   "metadata": {},
   "source": [
    "#  Guides to creating a board game\n",
    "1. Display something to the user\n",
    "2. Let the user update through interaction\n",
    "3. update variables in the program\n",
    "4. Display the updated visual"
   ]
  },
  {
   "cell_type": "code",
   "execution_count": 18,
   "id": "answering-lawyer",
   "metadata": {},
   "outputs": [],
   "source": [
    "# create a game board\n",
    "game_list = [\"0\",\"1\",\"2\"]\n",
    "\n",
    "#create a display function\n",
    "\n",
    "def display_game(game_list):\n",
    "    print(game_list)\n",
    "    \n",
    "#create player spot choice function\n",
    "\n",
    "def player_choice():\n",
    "    choice = \"wrong\"\n",
    "    while choice not in game_list:\n",
    "        choice = input(\"Please select a spot (0,1 or 2): \")\n",
    "        \n",
    "        if choice not in game_list:\n",
    "            print(\"Wrong Selection; choose either (0,1 or 2):\")\n",
    "    return int(choice)\n",
    "\n",
    "#update the board\n",
    "\n",
    "def update_board(game_list, choice):\n",
    "    user_symbol = input(\"Put in a string: \")\n",
    "    game_list[choice] = user_symbol\n",
    "    return game_list"
   ]
  },
  {
   "cell_type": "code",
   "execution_count": 20,
   "id": "south-petersburg",
   "metadata": {},
   "outputs": [
    {
     "name": "stdout",
     "output_type": "stream",
     "text": [
      "Welcome to this game\n",
      "['da', '1', '2']\n",
      "Please select a spot (0,1 or 2): 2\n",
      "Put in a string: qa\n"
     ]
    },
    {
     "data": {
      "text/plain": [
       "['da', '1', 'qa']"
      ]
     },
     "execution_count": 20,
     "metadata": {},
     "output_type": "execute_result"
    }
   ],
   "source": [
    "print(\"Welcome to this game\")\n",
    "display_game(game_list)\n",
    "play_choice = player_choice()\n",
    "update_board(game_list, play_choice)"
   ]
  },
  {
   "cell_type": "code",
   "execution_count": null,
   "id": "russian-czech",
   "metadata": {},
   "outputs": [],
   "source": []
  }
 ],
 "metadata": {
  "kernelspec": {
   "display_name": "Python 3",
   "language": "python",
   "name": "python3"
  },
  "language_info": {
   "codemirror_mode": {
    "name": "ipython",
    "version": 3
   },
   "file_extension": ".py",
   "mimetype": "text/x-python",
   "name": "python",
   "nbconvert_exporter": "python",
   "pygments_lexer": "ipython3",
   "version": "3.9.7"
  }
 },
 "nbformat": 4,
 "nbformat_minor": 5
}
