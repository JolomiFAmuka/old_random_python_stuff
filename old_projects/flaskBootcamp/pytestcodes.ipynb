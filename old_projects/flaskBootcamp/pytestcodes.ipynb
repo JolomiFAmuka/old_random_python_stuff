{
 "metadata": {
  "language_info": {
   "codemirror_mode": {
    "name": "ipython",
    "version": 3
   },
   "file_extension": ".py",
   "mimetype": "text/x-python",
   "name": "python",
   "nbconvert_exporter": "python",
   "pygments_lexer": "ipython3",
   "version": "3.8.6-final"
  },
  "orig_nbformat": 2,
  "kernelspec": {
   "name": "Python 3.8.6 64-bit",
   "display_name": "Python 3.8.6 64-bit",
   "metadata": {
    "interpreter": {
     "hash": "f1fd8ce855e40722fe12010058a838d5e8dc6e2be4db948cefeb323ae95cbe93"
    }
   }
  }
 },
 "nbformat": 4,
 "nbformat_minor": 2,
 "cells": [
  {
   "cell_type": "code",
   "execution_count": 13,
   "metadata": {},
   "outputs": [],
   "source": [
    "def code_maker(mystring):\n",
    "    output = list(mystring)\n",
    "    for index, letter in enumerate(mystring):\n",
    "        for vowel in 'aeiou':\n",
    "            if vowel.lower() == letter:\n",
    "                output[index] = 'x'\n",
    "    output = ''.join(output)\n",
    "    return output"
   ]
  },
  {
   "cell_type": "code",
   "execution_count": 14,
   "metadata": {},
   "outputs": [
    {
     "output_type": "execute_result",
     "data": {
      "text/plain": [
       "'Sxmmxx'"
      ]
     },
     "metadata": {},
     "execution_count": 14
    }
   ],
   "source": [
    "code_maker('Sammie')"
   ]
  },
  {
   "cell_type": "code",
   "execution_count": null,
   "metadata": {},
   "outputs": [],
   "source": []
  }
 ]
}