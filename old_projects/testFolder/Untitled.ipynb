{
 "cells": [
  {
   "cell_type": "code",
   "execution_count": 1,
   "id": "accessible-demand",
   "metadata": {},
   "outputs": [
    {
     "data": {
      "text/plain": [
       "['J', 'o', 'l', 'o', 'm', 's', 'k', 'y']"
      ]
     },
     "execution_count": 1,
     "metadata": {},
     "output_type": "execute_result"
    }
   ],
   "source": [
    "name = 'Jolomsky'\n",
    "list(name)"
   ]
  },
  {
   "cell_type": "code",
   "execution_count": 2,
   "id": "concrete-emperor",
   "metadata": {},
   "outputs": [
    {
     "name": "stdout",
     "output_type": "stream",
     "text": [
      "J\n",
      "o\n",
      "l\n",
      "o\n",
      "m\n",
      "s\n",
      "k\n",
      "y\n"
     ]
    }
   ],
   "source": [
    "for n in name:\n",
    "    print(n)"
   ]
  },
  {
   "cell_type": "code",
   "execution_count": 3,
   "id": "stupid-lincoln",
   "metadata": {},
   "outputs": [],
   "source": [
    "pup_dict = {\"name\":\"sparky\",\"breed\":\"chiuwawa\"}"
   ]
  },
  {
   "cell_type": "code",
   "execution_count": 12,
   "id": "limiting-kingdom",
   "metadata": {},
   "outputs": [
    {
     "data": {
      "text/plain": [
       "dict_keys(['name', 'breed'])"
      ]
     },
     "execution_count": 12,
     "metadata": {},
     "output_type": "execute_result"
    }
   ],
   "source": [
    "pup_dict.keys()"
   ]
  },
  {
   "cell_type": "code",
   "execution_count": 10,
   "id": "distinct-practitioner",
   "metadata": {},
   "outputs": [
    {
     "data": {
      "text/plain": [
       "2"
      ]
     },
     "execution_count": 10,
     "metadata": {},
     "output_type": "execute_result"
    }
   ],
   "source": [
    "len(pup_dict.keys())"
   ]
  },
  {
   "cell_type": "code",
   "execution_count": 14,
   "id": "heated-transmission",
   "metadata": {},
   "outputs": [
    {
     "data": {
      "text/plain": [
       "'sparky'"
      ]
     },
     "execution_count": 14,
     "metadata": {},
     "output_type": "execute_result"
    }
   ],
   "source": [
    "pup_dict[\"name\"]"
   ]
  },
  {
   "cell_type": "code",
   "execution_count": 19,
   "id": "stock-today",
   "metadata": {},
   "outputs": [],
   "source": [
    " puppies = [\"Max\", \"Sparky\", \"Rufus\", \"Killa\"]"
   ]
  },
  {
   "cell_type": "code",
   "execution_count": 20,
   "id": "dedicated-technician",
   "metadata": {},
   "outputs": [
    {
     "data": {
      "text/plain": [
       "list"
      ]
     },
     "execution_count": 20,
     "metadata": {},
     "output_type": "execute_result"
    }
   ],
   "source": [
    "type(puppies)"
   ]
  },
  {
   "cell_type": "code",
   "execution_count": 26,
   "id": "configured-production",
   "metadata": {},
   "outputs": [
    {
     "name": "stdout",
     "output_type": "stream",
     "text": [
      "Name found\n"
     ]
    }
   ],
   "source": [
    "for pet in puppies:\n",
    "    if \"sparky\" in pet.lower():\n",
    "        print(\"Name found\")\n",
    "        break\n",
    "    else:\n",
    "#         print(\"Nope...not here\")\n",
    "        continue"
   ]
  },
  {
   "cell_type": "code",
   "execution_count": 27,
   "id": "virtual-effects",
   "metadata": {},
   "outputs": [
    {
     "data": {
      "text/plain": [
       "{'name': 'sparky', 'breed': 'chiuwawa'}"
      ]
     },
     "execution_count": 27,
     "metadata": {},
     "output_type": "execute_result"
    }
   ],
   "source": [
    "pup_dict"
   ]
  },
  {
   "cell_type": "code",
   "execution_count": null,
   "id": "informative-campaign",
   "metadata": {},
   "outputs": [],
   "source": []
  }
 ],
 "metadata": {
  "kernelspec": {
   "display_name": "Python 3",
   "language": "python",
   "name": "python3"
  },
  "language_info": {
   "codemirror_mode": {
    "name": "ipython",
    "version": 3
   },
   "file_extension": ".py",
   "mimetype": "text/x-python",
   "name": "python",
   "nbconvert_exporter": "python",
   "pygments_lexer": "ipython3",
   "version": "3.9.2"
  }
 },
 "nbformat": 4,
 "nbformat_minor": 5
}
